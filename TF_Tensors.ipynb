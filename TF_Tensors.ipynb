{
  "nbformat": 4,
  "nbformat_minor": 0,
  "metadata": {
    "colab": {
      "provenance": [],
      "authorship_tag": "ABX9TyN7Hr+sKiV4ihcF0PhXmgdx",
      "include_colab_link": true
    },
    "kernelspec": {
      "name": "python3",
      "display_name": "Python 3"
    },
    "language_info": {
      "name": "python"
    }
  },
  "cells": [
    {
      "cell_type": "markdown",
      "metadata": {
        "id": "view-in-github",
        "colab_type": "text"
      },
      "source": [
        "<a href=\"https://colab.research.google.com/github/VikasMishra30/python/blob/main/TF_Tensors.ipynb\" target=\"_parent\"><img src=\"https://colab.research.google.com/assets/colab-badge.svg\" alt=\"Open In Colab\"/></a>"
      ]
    },
    {
      "cell_type": "code",
      "execution_count": 32,
      "metadata": {
        "id": "vAalfsoF4TnU"
      },
      "outputs": [],
      "source": [
        "import tensorflow as tf"
      ]
    },
    {
      "cell_type": "code",
      "source": [
        "# Enable eager execution (if it's not already enabled)\n",
        "tf.config.run_functions_eagerly(True)"
      ],
      "metadata": {
        "id": "uNWBXf7gB21D"
      },
      "execution_count": 33,
      "outputs": []
    },
    {
      "cell_type": "code",
      "source": [
        "tensor_zero_d = tf.constant(4, dtype=tf.float32)\n",
        "print(tensor_zero_d)"
      ],
      "metadata": {
        "colab": {
          "base_uri": "https://localhost:8080/"
        },
        "id": "28gTUmFL4cZZ",
        "outputId": "f4112ee5-4225-413b-88da-db1da36a6106"
      },
      "execution_count": 34,
      "outputs": [
        {
          "output_type": "stream",
          "name": "stdout",
          "text": [
            "tf.Tensor(4.0, shape=(), dtype=float32)\n"
          ]
        }
      ]
    },
    {
      "cell_type": "code",
      "source": [
        "tensor_one_d = tf.constant([2, 0, -3])\n",
        "print(tensor_one_d)"
      ],
      "metadata": {
        "colab": {
          "base_uri": "https://localhost:8080/"
        },
        "id": "dN5VO5Qu4o0a",
        "outputId": "2dc413ee-08ae-44ab-bc9e-1f2c5094ac15"
      },
      "execution_count": 35,
      "outputs": [
        {
          "output_type": "stream",
          "name": "stdout",
          "text": [
            "tf.Tensor([ 2  0 -3], shape=(3,), dtype=int32)\n"
          ]
        }
      ]
    },
    {
      "cell_type": "code",
      "source": [
        "tensor_two_d = tf.constant([[1, 2, 0],\n",
        "                           [3, 5, -1],\n",
        "                           [1, 5, 6],\n",
        "                           [2, 3, 0]])\n",
        "print(tensor_two_d)"
      ],
      "metadata": {
        "colab": {
          "base_uri": "https://localhost:8080/"
        },
        "id": "6doCgmcE45iE",
        "outputId": "c9b634cd-9372-468d-fd10-76e56339d43e"
      },
      "execution_count": 36,
      "outputs": [
        {
          "output_type": "stream",
          "name": "stdout",
          "text": [
            "tf.Tensor(\n",
            "[[ 1  2  0]\n",
            " [ 3  5 -1]\n",
            " [ 1  5  6]\n",
            " [ 2  3  0]], shape=(4, 3), dtype=int32)\n"
          ]
        }
      ]
    },
    {
      "cell_type": "code",
      "source": [
        "tensor_three_d = tf.constant([\n",
        "    [\n",
        "        [1, 2, 0],\n",
        "        [3, 5, -1],\n",
        "        [1, 5, 6],\n",
        "        [2, 3, 0]\n",
        "    ],\n",
        "    [\n",
        "        [7, 8, 9],\n",
        "        [10, 11, 12],\n",
        "        [13, 14, 15],\n",
        "        [16, 17, 18]\n",
        "    ]\n",
        "])\n",
        "\n",
        "print(tensor_three_d)"
      ],
      "metadata": {
        "colab": {
          "base_uri": "https://localhost:8080/"
        },
        "id": "c3KSZJiT5VoP",
        "outputId": "6e4aa6ac-216a-432d-bd89-6f72f51f0ae0"
      },
      "execution_count": 37,
      "outputs": [
        {
          "output_type": "stream",
          "name": "stdout",
          "text": [
            "tf.Tensor(\n",
            "[[[ 1  2  0]\n",
            "  [ 3  5 -1]\n",
            "  [ 1  5  6]\n",
            "  [ 2  3  0]]\n",
            "\n",
            " [[ 7  8  9]\n",
            "  [10 11 12]\n",
            "  [13 14 15]\n",
            "  [16 17 18]]], shape=(2, 4, 3), dtype=int32)\n"
          ]
        }
      ]
    },
    {
      "cell_type": "code",
      "source": [
        "print(tensor_three_d.ndim)"
      ],
      "metadata": {
        "colab": {
          "base_uri": "https://localhost:8080/"
        },
        "id": "BJ3s3Nof7lp5",
        "outputId": "6df850e9-63ba-4d8c-bde4-2434cd4c1129"
      },
      "execution_count": 38,
      "outputs": [
        {
          "output_type": "stream",
          "name": "stdout",
          "text": [
            "3\n"
          ]
        }
      ]
    },
    {
      "cell_type": "code",
      "source": [
        "tensor_4D = tf.constant([\n",
        "    [\n",
        "        [\n",
        "            [1, 2, 0],\n",
        "            [3, 5, -1],\n",
        "            [1, 5, 6],\n",
        "            [2, 3, 0]\n",
        "        ],\n",
        "        [\n",
        "            [7, 8, 9],\n",
        "            [10, 11, 12],\n",
        "            [13, 14, 15],\n",
        "            [16, 17, 18]\n",
        "        ]\n",
        "    ],\n",
        "    [\n",
        "        [\n",
        "            [19, 20, 21],\n",
        "            [22, 23, 24],\n",
        "            [25, 26, 27],\n",
        "            [28, 29, 30]\n",
        "        ],\n",
        "        [\n",
        "            [31, 32, 33],\n",
        "            [34, 35, 36],\n",
        "            [37, 38, 39],\n",
        "            [40, 41, 42]\n",
        "        ]\n",
        "    ]\n",
        "])\n",
        "\n",
        "print(tensor_4D)"
      ],
      "metadata": {
        "colab": {
          "base_uri": "https://localhost:8080/"
        },
        "id": "uQZ8QYra7vxQ",
        "outputId": "f76ef751-bffc-4fba-ee59-22ff9c2510e3"
      },
      "execution_count": 39,
      "outputs": [
        {
          "output_type": "stream",
          "name": "stdout",
          "text": [
            "tf.Tensor(\n",
            "[[[[ 1  2  0]\n",
            "   [ 3  5 -1]\n",
            "   [ 1  5  6]\n",
            "   [ 2  3  0]]\n",
            "\n",
            "  [[ 7  8  9]\n",
            "   [10 11 12]\n",
            "   [13 14 15]\n",
            "   [16 17 18]]]\n",
            "\n",
            "\n",
            " [[[19 20 21]\n",
            "   [22 23 24]\n",
            "   [25 26 27]\n",
            "   [28 29 30]]\n",
            "\n",
            "  [[31 32 33]\n",
            "   [34 35 36]\n",
            "   [37 38 39]\n",
            "   [40 41 42]]]], shape=(2, 2, 4, 3), dtype=int32)\n"
          ]
        }
      ]
    },
    {
      "cell_type": "code",
      "source": [
        "tensor_1D = tf.constant([1, 0., -3], dtype = tf.float32)\n",
        "print(tensor_1D)\n",
        "casted_1D = tf.cast(tensor_1D, dtype = tf.int16)\n",
        "print(casted_1D)\n",
        "castedBool1D = tf.cast(tensor_1D, dtype = tf.bool)\n",
        "print(castedBool1D)"
      ],
      "metadata": {
        "colab": {
          "base_uri": "https://localhost:8080/"
        },
        "id": "RScKvMzd8A_0",
        "outputId": "b576cbf4-8dfb-46ee-8f88-25a434a1778d"
      },
      "execution_count": 40,
      "outputs": [
        {
          "output_type": "stream",
          "name": "stdout",
          "text": [
            "tf.Tensor([ 1.  0. -3.], shape=(3,), dtype=float32)\n",
            "tf.Tensor([ 1  0 -3], shape=(3,), dtype=int16)\n",
            "tf.Tensor([ True False  True], shape=(3,), dtype=bool)\n"
          ]
        }
      ]
    },
    {
      "cell_type": "code",
      "source": [
        "import numpy as np"
      ],
      "metadata": {
        "id": "-AU6A8wS9U_U"
      },
      "execution_count": 41,
      "outputs": []
    },
    {
      "cell_type": "code",
      "source": [
        "np_array = np.array([1, 2, 4])\n",
        "print(np_array)\n",
        "\n",
        "convertedTensor = tf.convert_to_tensor(np_array)\n",
        "print(convertedTensor)"
      ],
      "metadata": {
        "id": "dnYVmF79BGC6",
        "colab": {
          "base_uri": "https://localhost:8080/"
        },
        "outputId": "0041d8d8-eff7-45d5-af88-5294c1300729"
      },
      "execution_count": 42,
      "outputs": [
        {
          "output_type": "stream",
          "name": "stdout",
          "text": [
            "[1 2 4]\n",
            "tf.Tensor([1 2 4], shape=(3,), dtype=int64)\n"
          ]
        }
      ]
    },
    {
      "cell_type": "code",
      "source": [
        "eye_tensor = tf.eye(\n",
        "    num_rows = 3,\n",
        "    num_columns=None,\n",
        "    batch_shape=[2, 2],\n",
        "    dtype=tf.dtypes.float32,\n",
        "    name=None\n",
        ")\n",
        "print(eye_tensor)"
      ],
      "metadata": {
        "id": "_wl-AfM89V2W",
        "colab": {
          "base_uri": "https://localhost:8080/"
        },
        "outputId": "f7dbd776-eb7c-401e-d1dc-e3b2b5fd6976"
      },
      "execution_count": 43,
      "outputs": [
        {
          "output_type": "stream",
          "name": "stdout",
          "text": [
            "tf.Tensor(\n",
            "[[[[1. 0. 0.]\n",
            "   [0. 1. 0.]\n",
            "   [0. 0. 1.]]\n",
            "\n",
            "  [[1. 0. 0.]\n",
            "   [0. 1. 0.]\n",
            "   [0. 0. 1.]]]\n",
            "\n",
            "\n",
            " [[[1. 0. 0.]\n",
            "   [0. 1. 0.]\n",
            "   [0. 0. 1.]]\n",
            "\n",
            "  [[1. 0. 0.]\n",
            "   [0. 1. 0.]\n",
            "   [0. 0. 1.]]]], shape=(2, 2, 3, 3), dtype=float32)\n"
          ]
        }
      ]
    },
    {
      "cell_type": "code",
      "source": [
        "fill_tensor = tf.fill(\n",
        "    [1, 2, 3], 7, name = None\n",
        ")\n",
        "print(fill_tensor)"
      ],
      "metadata": {
        "colab": {
          "base_uri": "https://localhost:8080/"
        },
        "id": "hqvq_CpfimDA",
        "outputId": "00985190-2798-4c0a-deb3-5e7c8651bc67"
      },
      "execution_count": 44,
      "outputs": [
        {
          "output_type": "stream",
          "name": "stdout",
          "text": [
            "tf.Tensor(\n",
            "[[[7 7 7]\n",
            "  [7 7 7]]], shape=(1, 2, 3), dtype=int32)\n"
          ]
        }
      ]
    },
    {
      "cell_type": "code",
      "source": [
        "ones_tensor = tf.ones(\n",
        "    [3, 3], dtype = tf.dtypes.float32, name = None\n",
        ")\n",
        "print(ones_tensor)"
      ],
      "metadata": {
        "colab": {
          "base_uri": "https://localhost:8080/"
        },
        "id": "JKJlAx-YimQw",
        "outputId": "9be979f2-df1b-461b-c4e1-29e8f88b2cd6"
      },
      "execution_count": 45,
      "outputs": [
        {
          "output_type": "stream",
          "name": "stdout",
          "text": [
            "tf.Tensor(\n",
            "[[1. 1. 1.]\n",
            " [1. 1. 1.]\n",
            " [1. 1. 1.]], shape=(3, 3), dtype=float32)\n"
          ]
        }
      ]
    },
    {
      "cell_type": "code",
      "source": [
        "ones_like_tensor = tf.ones_like(fill_tensor)\n",
        "print(ones_like_tensor)"
      ],
      "metadata": {
        "colab": {
          "base_uri": "https://localhost:8080/"
        },
        "id": "zPpMaKrMimc1",
        "outputId": "e99256f2-ade7-41f7-f196-e8aa8953ee87"
      },
      "execution_count": 46,
      "outputs": [
        {
          "output_type": "stream",
          "name": "stdout",
          "text": [
            "tf.Tensor(\n",
            "[[[1 1 1]\n",
            "  [1 1 1]]], shape=(1, 2, 3), dtype=int32)\n"
          ]
        }
      ]
    },
    {
      "cell_type": "code",
      "source": [
        "tf.rank(ones_like_tensor)"
      ],
      "metadata": {
        "colab": {
          "base_uri": "https://localhost:8080/"
        },
        "id": "NbLlx6Zhimmq",
        "outputId": "a53a0e1c-86e4-4dc2-a990-08e190225948"
      },
      "execution_count": 47,
      "outputs": [
        {
          "output_type": "execute_result",
          "data": {
            "text/plain": [
              "<tf.Tensor: shape=(), dtype=int32, numpy=3>"
            ]
          },
          "metadata": {},
          "execution_count": 47
        }
      ]
    },
    {
      "cell_type": "code",
      "source": [
        "tf.size(ones_like_tensor)"
      ],
      "metadata": {
        "colab": {
          "base_uri": "https://localhost:8080/"
        },
        "id": "kQCbwRJcAAYl",
        "outputId": "8f1c4f9f-aba9-4403-b4a9-a63850f6dde3"
      },
      "execution_count": 48,
      "outputs": [
        {
          "output_type": "execute_result",
          "data": {
            "text/plain": [
              "<tf.Tensor: shape=(), dtype=int32, numpy=6>"
            ]
          },
          "metadata": {},
          "execution_count": 48
        }
      ]
    },
    {
      "cell_type": "code",
      "source": [
        " tf.size(ones_like_tensor, out_type = tf.float32)"
      ],
      "metadata": {
        "colab": {
          "base_uri": "https://localhost:8080/"
        },
        "id": "1ITff6guBK00",
        "outputId": "b70764af-973f-4948-ad07-c10e23f87e59"
      },
      "execution_count": 49,
      "outputs": [
        {
          "output_type": "execute_result",
          "data": {
            "text/plain": [
              "<tf.Tensor: shape=(), dtype=float32, numpy=6.0>"
            ]
          },
          "metadata": {},
          "execution_count": 49
        }
      ]
    },
    {
      "cell_type": "code",
      "source": [
        "random_tensor = tf.random.normal([3,2],\n",
        "                                 mean = 0.0,\n",
        "                                 stddev = 1.0,\n",
        "                                 dtype = tf.dtypes.float32,\n",
        "                                 seed = None, name = None)\n",
        "print(random_tensor)"
      ],
      "metadata": {
        "colab": {
          "base_uri": "https://localhost:8080/"
        },
        "id": "CE7VycG-BifT",
        "outputId": "6f619ac3-3598-4ac9-c57a-1f88edd1f21e"
      },
      "execution_count": 50,
      "outputs": [
        {
          "output_type": "stream",
          "name": "stdout",
          "text": [
            "tf.Tensor(\n",
            "[[ 1.5030582   0.06448315]\n",
            " [-1.8782123  -0.43845144]\n",
            " [-0.40295094  1.4476545 ]], shape=(3, 2), dtype=float32)\n"
          ]
        }
      ]
    },
    {
      "cell_type": "code",
      "source": [
        "random_tensor = tf.random.uniform([5],\n",
        "                                 minval = 0,\n",
        "                                 maxval = 8,\n",
        "                                 dtype = tf.dtypes.int32,\n",
        "                                 seed = None, name = None)\n",
        "print(random_tensor)"
      ],
      "metadata": {
        "colab": {
          "base_uri": "https://localhost:8080/"
        },
        "id": "j_JkR_EgCaY9",
        "outputId": "b0fd8122-0772-43c0-e0d9-9ce4b8d0d668"
      },
      "execution_count": 51,
      "outputs": [
        {
          "output_type": "stream",
          "name": "stdout",
          "text": [
            "tf.Tensor([3 1 6 1 3], shape=(5,), dtype=int32)\n"
          ]
        }
      ]
    },
    {
      "cell_type": "code",
      "source": [
        "tensor_indexed = tf.constant([3, 3, 2, 5, 7, 3, 10])\n",
        "print(tensor_indexed[3])\n",
        "print(tensor_indexed[0:4])\n",
        "print(tensor_indexed[0:6:2])"
      ],
      "metadata": {
        "colab": {
          "base_uri": "https://localhost:8080/"
        },
        "id": "UOqssbtJL5Qt",
        "outputId": "f3a443a9-9103-45bb-a7e9-742d98e1dca7"
      },
      "execution_count": 52,
      "outputs": [
        {
          "output_type": "stream",
          "name": "stdout",
          "text": [
            "tf.Tensor(5, shape=(), dtype=int32)\n",
            "tf.Tensor([3 3 2 5], shape=(4,), dtype=int32)\n",
            "tf.Tensor([3 2 7], shape=(3,), dtype=int32)\n"
          ]
        }
      ]
    },
    {
      "cell_type": "code",
      "source": [],
      "metadata": {
        "id": "_J05KpQzWgIr"
      },
      "execution_count": 52,
      "outputs": []
    }
  ]
}